{
 "cells": [
  {
   "cell_type": "code",
   "execution_count": 1,
   "metadata": {},
   "outputs": [],
   "source": [
    "import numpy as np \n",
    "import matplotlib.pyplot as plt \n",
    "import pandas as pd\n",
    "import copy\n",
    "import matplotlib.cm as cm\n",
    "from scipy.interpolate import interp2d\n",
    "from scipy.ndimage.filters import gaussian_filter"
   ]
  },
  {
   "cell_type": "code",
   "execution_count": null,
   "metadata": {},
   "outputs": [],
   "source": [
    "# make figure 2\n",
    "\n",
    "\n",
    "# Define heatmap file\n",
    "Poisson_Poisson = 'Outputs/TestSensitivity_Istart100Nexp10R02.000000_Dayspreinfectious3Dayspreinfectious4Dayssymptomatic4Testwait0Resultwait0Asymptomatics0.300000ChildLocationpoissonOffspringDistpoisson.txt'\n",
    "tenbyten = Poisson_Poisson\n",
    "x,y,z = make_raw_arrays(tenbyten)\n",
    "\n",
    "\n",
    "# Now define paths to delayed simulations\n",
    "delays = {2:{},3:{},4:{}}\n",
    "\n",
    "delays[2]['filename'] = \"Outputs/TestSensitivity_Istart100Nexp10R02.000000_Dayspreinfectious3Dayspreinfectious4Dayssymptomatic4Testwait1Resultwait1Asymptomatics0.300000ChildLocationpoissonOffspringDistpoisson.txt\"\n",
    "delays[3]['filename'] = \"Outputs/TestSensitivity_Istart100Nexp10R02.000000_Dayspreinfectious3Dayspreinfectious4Dayssymptomatic4Testwait2Resultwait1Asymptomatics0.300000ChildLocationpoissonOffspringDistpoisson.txt\"\n",
    "delays[4]['filename'] = \"Outputs/TestSensitivity_Istart100Nexp10R02.000000_Dayspreinfectious3Dayspreinfectious4Dayssymptomatic4Testwait3Resultwait1Asymptomatics0.300000ChildLocationpoissonOffspringDistpoisson.txt\"\n",
    "\n",
    "\n",
    "\n",
    "for key in delays.keys() :\n",
    "    delays[key]['x'],delays[key]['y'],delays[key]['z']= make_raw_arrays(delays[key]['filename'])\n",
    "    delays[key]['X'],delays[key]['Y'],delays[key]['Z'] = make_cbar_arrays(delays[key]['x'],delays[key]['y'],delays[key]['z'])\n",
    "    delays[key]['ydict'] = { delays[key]['Y'][i][0] : delays[key]['Z'][i][0] for i in range(0, len(delays[key]['Z']) ) }\n",
    "contours = get_contours(x,y,z,delays)\n",
    "\n",
    "\n",
    "for key in delays.keys() :\n",
    "    delays[key]['X'],delays[key]['Y'],delays[key]['Z'] = make_cbar_arrays(np.array(contours[key]['x']),np.array(contours[key]['y']),np.array(contours[key]['z']))\n",
    "\n",
    "    \n",
    "    \n",
    "# PLOT\n",
    "for key in delays.keys() :\n",
    "    delays[key]['x'],delays[key]['y'],delays[key]['z'] = make_raw_arrays(delays[key]['filename'])\n",
    "\n",
    "    delays[key]['X'],delays[key]['Y'],delays[key]['Z'] = make_cbar_arrays(delays[key]['x'],delays[key]['y'],delays[key]['z'])\n",
    "    delays[key]['ydict'] = { delays[key]['Y'][i][0] : delays[key]['Z'][i][0] for i in range(0, len(delays[key]['Z']) ) }\n",
    "contours = get_contours(x,y,z,delays)\n",
    "\n",
    "\n",
    "for key in delays.keys() :\n",
    "    delays[key]['X'],delays[key]['Y'],delays[key]['Z'] = make_cbar_arrays(np.array(contours[key]['x']),np.array(contours[key]['y']),np.array(contours[key]['z']))\n",
    "\n",
    "\n",
    "x,y,z = make_raw_arrays(tenbyten)\n",
    "contours = get_contours(x,y,z,delays)\n",
    "X,Y,Z = make_cbar_arrays(x,y,z)\n",
    "\n",
    "\n",
    "\n",
    "\n",
    "# Plot the figure\n",
    "make_fig2(X,Y,Z,delays,figname='Fig2')"
   ]
  },
  {
   "cell_type": "code",
   "execution_count": 4,
   "metadata": {},
   "outputs": [
    {
     "data": {
      "image/png": "[encoded data removed]",
      "text/plain": [
       "<Figure size 259.2x129.6 with 1 Axes>"
      ]
     },
     "metadata": {
      "needs_background": "light"
     },
     "output_type": "display_data"
    }
   ],
   "source": [
    "# Make Fig 1 B\n",
    "\n",
    "\n",
    "import math\n",
    "poisson = [0,0,0]\n",
    "uniform = [0,0,0]\n",
    "mean = 3\n",
    "denominator = 0\n",
    "for day in range (8) :\n",
    "    poisson.append(mean**day/math.factorial(day)*math.exp(-mean))\n",
    "    denominator += mean**day/math.factorial(day)*math.exp(-mean)\n",
    "    \n",
    "    uniform.append(1/8)\n",
    "\n",
    "poisson = np.array(poisson)/denominator\n",
    "\n",
    "\n",
    "SMALL_SIZE = 7\n",
    "MEDIUM_SIZE = 8#10\n",
    "\n",
    "\n",
    "plt.figure(figsize=(3.6,3.6/2))\n",
    "\n",
    "plt.rc('font', size=SMALL_SIZE)          # controls default text sizes\n",
    "plt.rc('axes', titlesize=SMALL_SIZE)     # fontsize of the axes title\n",
    "plt.rc('axes', labelsize=SMALL_SIZE)    # fontsize of the x and y labels\n",
    "plt.rc('xtick', labelsize=SMALL_SIZE)    # fontsize of the tick labels\n",
    "plt.rc('ytick', labelsize=SMALL_SIZE)    # fontsize of the tick labels\n",
    "\n",
    "\n",
    "myGreen = '#00a000ff'\n",
    "myBlue = '#0090ffff'\n",
    "myRed = '#ff2a2aff'\n",
    "\n",
    "\n",
    "\n",
    "plt.fill_between(np.arange(-1,2.6,.1),-1,0.30,color=myGreen,alpha=0.8)\n",
    "plt.fill_between(np.arange(2.5,6.6,.1),-1,0.30,color=myBlue,alpha=0.8)\n",
    "plt.fill_between(np.arange(6.5,11.1,.1),-1,0.30,color=myRed,alpha=0.8)\n",
    "\n",
    "\n",
    "\n",
    "plt.plot(poisson,'o-',color='k',label='Skæv')\n",
    "#plt.plot(uniform,'o',color='C1',label='Flad')\n",
    "\n",
    "plt.xlabel('Day after infection',fontsize=MEDIUM_SIZE)\n",
    "plt.ylabel('Infectiousness',fontsize=MEDIUM_SIZE)\n",
    "#plt.legend(loc=2,frameon=False,fontsize=14)\n",
    "plt.tick_params(labelsize=12)\n",
    "plt.ylim([-0.01,0.26])\n",
    "plt.xlim([-0.25,10.25])\n",
    "\n",
    "plt.tick_params(labelsize=SMALL_SIZE)\n",
    "plt.tight_layout()\n",
    "plt.savefig('Figures/Pinf(t).svg',dpi=400)"
   ]
  },
  {
   "cell_type": "code",
   "execution_count": null,
   "metadata": {},
   "outputs": [],
   "source": []
  },
  {
   "cell_type": "code",
   "execution_count": null,
   "metadata": {},
   "outputs": [],
   "source": []
  },
  {
   "cell_type": "code",
   "execution_count": null,
   "metadata": {},
   "outputs": [],
   "source": []
  }
 ],
 "metadata": {
  "kernelspec": {
   "display_name": "Python 3",
   "language": "python",
   "name": "python3"
  },
  "language_info": {
   "codemirror_mode": {
    "name": "ipython",
    "version": 3
   },
   "file_extension": ".py",
   "mimetype": "text/x-python",
   "name": "python",
   "nbconvert_exporter": "python",
   "pygments_lexer": "ipython3",
   "version": "3.8.5"
  }
 },
 "nbformat": 4,
 "nbformat_minor": 4
}
